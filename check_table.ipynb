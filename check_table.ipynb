{
 "cells": [
  {
   "cell_type": "code",
   "execution_count": 8,
   "id": "6c41247a",
   "metadata": {},
   "outputs": [],
   "source": [
    "import pandas as pd"
   ]
  },
  {
   "cell_type": "code",
   "execution_count": 9,
   "id": "fb277ac5",
   "metadata": {},
   "outputs": [
    {
     "data": {
      "application/vnd.microsoft.datawrangler.viewer.v0+json": {
       "columns": [
        {
         "name": "index",
         "rawType": "int64",
         "type": "integer"
        },
        {
         "name": "index",
         "rawType": "int64",
         "type": "integer"
        },
        {
         "name": "question",
         "rawType": "object",
         "type": "string"
        },
        {
         "name": "ground_truth",
         "rawType": "object",
         "type": "string"
        },
        {
         "name": "prediction",
         "rawType": "object",
         "type": "string"
        },
        {
         "name": "f1_score",
         "rawType": "float64",
         "type": "float"
        }
       ],
       "conversionMethod": "pd.DataFrame",
       "ref": "8ff0f6bd-363f-48e8-b905-39e9a80333e2",
       "rows": [
        [
         "0",
         "0",
         "What is Saltram's living situation?",
         "He is a guest in the home of the Mulvilles.",
         "Fundamentally unstable and reliant on external support.",
         "0.0"
        ],
        [
         "1",
         "1",
         "Why does Ann not return Mary's feelings of affection?",
         "Because she is in unrequited love with someone else",
         "Ann’s enduring attachment to a past, “ill-fated love” occupies her thoughts and emotions, leaving her emotionally unavailable for a reciprocal connection with Mary.",
         "0.0666666666666666"
        ],
        [
         "2",
         "2",
         "Where does the witch live?",
         "The Atlas Mountains",
         "Atlas’ mountain, within a cavern by a secret fountain",
         "0.0"
        ],
        [
         "3",
         "3",
         "What was the purpose of Crito's visit?",
         "To smuggle Socrates out of prison and into a life of exile.",
         "To persuade Socrates to escape from prison.",
         "0.3333333333333332"
        ],
        [
         "4",
         "4",
         "Why didn't Baron Henry just kill Otto instead of cutting his hand off?",
         "Otto was so young.",
         "A deliberate mirroring of Conrad’s brutality, a “tooth for a tooth” response.",
         "0.0"
        ],
        [
         "5",
         "5",
         "How long had Mortimer Trefinnis' sister been dead when the doctor examined the body?",
         "Six hours.",
         "Six hours",
         "1.0"
        ],
        [
         "6",
         "6",
         "With whom does the entertainers' manager have an affair?",
         "Lisa, the blacksmith's wife.",
         "a wealthy woman",
         "0.0"
        ],
        [
         "7",
         "7",
         "Who is the first person that falls under Vigo's spell?",
         "Dr. Janosz Poha",
         "Dana Barrett",
         "0.0"
        ],
        [
         "8",
         "8",
         "What nationality is Ruth Anvoy?",
         "She is an American.",
         "American",
         "0.5"
        ],
        [
         "9",
         "9",
         "Who did the Witch want to have reveal their own lies?",
         "The scribe.",
         "Mortals",
         "0.0"
        ],
        [
         "10",
         "10",
         "Why do the bosses of Wilma's gang believe that Anthony Rogers will be useful to them in the current conflict?",
         "Because he fought in the first world war.",
         "exceptional combat skills, knowledge of the 20th century, and superior strategic thinking.",
         "0.0"
        ],
        [
         "11",
         "11",
         "Which descriptions of the future world does Soames provide upon his return?",
         "ones that are vague",
         "\"sanitary woolen,\" \"grayish-yellowish stuff,\" numbered metal disks, well-cared for/“Utopian” people smelling of carbolic, hairless or shorn people, and books written in \"phonetic spelling.\"",
         "0.0"
        ],
        [
         "12",
         "12",
         "How long after Madame de Merret dies before people are allowed inter manor?",
         "50 years",
         "Fifty years",
         "0.5"
        ],
        [
         "13",
         "13",
         "Who doe the Vervelle couple believe Grassou is the perfect match for?",
         "Their daughter, Virgine. ",
         "their daughter",
         "0.8"
        ],
        [
         "14",
         "14",
         "Who does Vervelle want his daughter to marry?",
         "Grassou",
         "Pierre Grassou",
         "0.6666666666666666"
        ],
        [
         "15",
         "15",
         "How does the slime get into Dana's apartment?",
         "The slime gets into Dana's apartment from the bathtub.",
         "The script does not provide an answer.",
         "0.0"
        ],
        [
         "16",
         "16",
         "What does Elder Childers argue?",
         "That a mule bone is very powerful and can be a weapon.",
         "Upholding law and order, moral righteousness, and asserting Baptist authority.",
         "0.1"
        ],
        [
         "17",
         "17",
         "Why do the bosses of Wilma's gang believe that Anthony Rogers will be useful to them in the current conflict?",
         "Anthony Rogers has previous wartime and combatant experience.",
         "He is an outsider with no existing allegiances, quickly masters 24th-century technology, demonstrates immediate combat effectiveness, represents a connection to a lost era of American power, and possesses knowledge of 20th-century warfare tactics.",
         "0.0526315789473684"
        ],
        [
         "18",
         "18",
         "What does Reiko see in the photograph that her ex-husband takes of her after she has seen the tape?",
         "Her face is blurry",
         "A horrifying distortion of her face – twisted and misshapen.",
         "0.3076923076923076"
        ],
        [
         "19",
         "19",
         "How many ethical arguments does Socrates propose?",
         "Two",
         "Six",
         "0.0"
        ],
        [
         "20",
         "20",
         "Why was Mortimer Trefinnis once estranged from his siblings?",
         "because of the division of proceeds from selling the family business.",
         "A dispute over the division of money following the sale of their family’s tin-mining venture.",
         "0.2857142857142857"
        ],
        [
         "21",
         "21",
         "What year is it when Anthony Rogers finally disembarks from the coal mine?",
         "2419.",
         "2419 A.D.",
         "0.6666666666666666"
        ],
        [
         "22",
         "22",
         "Why did Bill run to Texas?",
         "he murdered someone",
         "Escaping violence and to find a better life.",
         "0.0"
        ],
        [
         "23",
         "23",
         "Who does Socrates compare going against the law to?",
         "Your parents",
         "harming the health of one’s own soul",
         "0.0"
        ],
        [
         "24",
         "24",
         "What relation to Ruth Anvoy is Lady Coxon?",
         "Lady Coxon is Ruth's aunt.",
         "Aunt",
         "0.3333333333333333"
        ],
        [
         "25",
         "25",
         "What is Reiko's job?",
         "Reiko is a reporter.",
         "Information not available.",
         "0.0"
        ],
        [
         "26",
         "26",
         "Why does Socrates ultimately decide it is unjust to escape?",
         "Because it violates his belief in the  laws of society.",
         "Violating the social contract, betraying his commitment to justice and virtue, and damaging the foundations of Athenian society.",
         "0.24"
        ],
        [
         "27",
         "27",
         "How is Drexl killed?",
         "he is shot",
         "Clarence initially shoots Drexl in the testicles with a .38 caliber pistol, then repeatedly shoots him multiple times at close range.",
         "0.0"
        ],
        [
         "28",
         "28",
         "What did Anvoy do with the letter once she received it?",
         "She declined to read it.",
         "The summary does not contain information about a letter or what Anvoy did with it.",
         "0.1111111111111111"
        ],
        [
         "29",
         "29",
         "What was the description of the teens faces when they died?",
         "Twisted in fear",
         "“insane rictus of fear, mouth open, eyes wide and glassy”",
         "0.1538461538461538"
        ],
        [
         "30",
         "30",
         "Why does Soames get upset with Beerbohm?",
         "Beerbohm wrote a fictional story about Soames.",
         "Because Beerbohm suggests he submit his work to *The Yellow Book*.",
         "0.125"
        ],
        [
         "31",
         "31",
         "How many days do viewers of the tape have to live after they watch it?",
         "Seven days",
         "Seven",
         "0.6666666666666666"
        ],
        [
         "32",
         "32",
         "Who does not see death in the end?",
         "all but Jof and the Juggler",
         "Jons",
         "0.0"
        ],
        [
         "33",
         "33",
         "When Mary was younger, how did her mother fill her free time?",
         "she was obsessed with novels.",
         "Reading sentimental novels, maintaining her social image, and lavishing affection on her dogs.",
         "0.1111111111111111"
        ],
        [
         "34",
         "34",
         "What attratcs men to Anderson?",
         "HER BEAUTY",
         "The story does not mention a character named Anderson.",
         "0.0"
        ],
        [
         "35",
         "35",
         "Why was Falder worried about Ruth?",
         "Her husband abused her",
         "Ruth’s explicit fear, the escape plan’s risk, Falder’s commitment, Ruth’s questioning of Falder’s resolve, Ruth’s desperate plea, Falder’s emotional state, and post-forgery actions.",
         "0.0"
        ],
        [
         "36",
         "36",
         "How did Bill die?",
         "He is killed by police.",
         "Stabbed in the heart with a spoke from his motorbike wheel by Chuck.",
         "0.125"
        ],
        [
         "37",
         "37",
         "Why are Holmes and Dr. Watson in Cornwall?",
         "For Holmes' health.",
         "Holmes was suffering from declining health and needed rest.",
         "0.3333333333333333"
        ],
        [
         "38",
         "38",
         "What ghost emerged from a painting at Dana's workplace?",
         "Vigo",
         "Vigo the Carpathian",
         "0.6666666666666666"
        ],
        [
         "39",
         "39",
         "How is Mary initially educated?",
         "Nature and books",
         "Minimal and superficial, prioritizing social graces over substantive learning.",
         "0.1666666666666666"
        ],
        [
         "40",
         "40",
         "Where does the slime attack Dana and Oscar?",
         "museum",
         "Dana’s bathroom",
         "0.0"
        ],
        [
         "41",
         "41",
         "Who made the original cursed videotape?",
         "Sadako Yamamura made the tape psionically.",
         "Sadako",
         "0.3333333333333333"
        ],
        [
         "42",
         "42",
         "Where does this story take place?",
         "In Socrates Cell?",
         "In the prison of Socrates in Athens.",
         "0.4444444444444444"
        ],
        [
         "43",
         "43",
         "How did Shizuko Yamamura die?",
         "She committed suicide.",
         "Shizuko Yamamura committed suicide forty years ago by throwing herself into Mt. Mihara’s volcanic crater.",
         "0.2222222222222222"
        ],
        [
         "44",
         "44",
         "Why did Bennett Landsmann need to defend Seth Lazurus in court?",
         "because he's a lawyer",
         "The provided text does not contain information to answer this question.",
         "0.0"
        ],
        [
         "45",
         "45",
         "Which remarkable habit did Enoch Soames demonstrate with regard to choice of clothing?",
         "always wore a grey waterproof cape and a soft black hat",
         "Remarkably consistent and deliberate choice of clothing.",
         "0.125"
        ],
        [
         "46",
         "46",
         "Who did Baron Conrad kill?",
         "Baron Frederick",
         "Baron Frederick of Trutz-Drachen",
         "0.6666666666666666"
        ],
        [
         "47",
         "47",
         "How is Mary initially educated?",
         "She educates herself using books and the natural world.",
         "Self-taught through novels, the natural world, and proactively learning to read and write.",
         "0.3"
        ],
        [
         "48",
         "48",
         "What religion supported Dave during Jim's trial?",
         "The Baptist's supported Dave. ",
         "Baptist",
         "0.0"
        ],
        [
         "49",
         "49",
         "Who does Vane write about in her letter?",
         "Louis Leverett",
         "Her mother, her father, Madame de Maisonrouge, an Englishman, Evelyn Vane, a German doctor, Mr. Louis Leverett, a sophisticated New Yorker, a New Englander, and the Vane siblings.",
         "0.16"
        ]
       ],
       "shape": {
        "columns": 5,
        "rows": 200
       }
      },
      "text/html": [
       "<div>\n",
       "<style scoped>\n",
       "    .dataframe tbody tr th:only-of-type {\n",
       "        vertical-align: middle;\n",
       "    }\n",
       "\n",
       "    .dataframe tbody tr th {\n",
       "        vertical-align: top;\n",
       "    }\n",
       "\n",
       "    .dataframe thead th {\n",
       "        text-align: right;\n",
       "    }\n",
       "</style>\n",
       "<table border=\"1\" class=\"dataframe\">\n",
       "  <thead>\n",
       "    <tr style=\"text-align: right;\">\n",
       "      <th></th>\n",
       "      <th>index</th>\n",
       "      <th>question</th>\n",
       "      <th>ground_truth</th>\n",
       "      <th>prediction</th>\n",
       "      <th>f1_score</th>\n",
       "    </tr>\n",
       "  </thead>\n",
       "  <tbody>\n",
       "    <tr>\n",
       "      <th>0</th>\n",
       "      <td>0</td>\n",
       "      <td>What is Saltram's living situation?</td>\n",
       "      <td>He is a guest in the home of the Mulvilles.</td>\n",
       "      <td>Fundamentally unstable and reliant on external...</td>\n",
       "      <td>0.000000</td>\n",
       "    </tr>\n",
       "    <tr>\n",
       "      <th>1</th>\n",
       "      <td>1</td>\n",
       "      <td>Why does Ann not return Mary's feelings of aff...</td>\n",
       "      <td>Because she is in unrequited love with someone...</td>\n",
       "      <td>Ann’s enduring attachment to a past, “ill-fate...</td>\n",
       "      <td>0.066667</td>\n",
       "    </tr>\n",
       "    <tr>\n",
       "      <th>2</th>\n",
       "      <td>2</td>\n",
       "      <td>Where does the witch live?</td>\n",
       "      <td>The Atlas Mountains</td>\n",
       "      <td>Atlas’ mountain, within a cavern by a secret f...</td>\n",
       "      <td>0.000000</td>\n",
       "    </tr>\n",
       "    <tr>\n",
       "      <th>3</th>\n",
       "      <td>3</td>\n",
       "      <td>What was the purpose of Crito's visit?</td>\n",
       "      <td>To smuggle Socrates out of prison and into a l...</td>\n",
       "      <td>To persuade Socrates to escape from prison.</td>\n",
       "      <td>0.333333</td>\n",
       "    </tr>\n",
       "    <tr>\n",
       "      <th>4</th>\n",
       "      <td>4</td>\n",
       "      <td>Why didn't Baron Henry just kill Otto instead ...</td>\n",
       "      <td>Otto was so young.</td>\n",
       "      <td>A deliberate mirroring of Conrad’s brutality, ...</td>\n",
       "      <td>0.000000</td>\n",
       "    </tr>\n",
       "    <tr>\n",
       "      <th>...</th>\n",
       "      <td>...</td>\n",
       "      <td>...</td>\n",
       "      <td>...</td>\n",
       "      <td>...</td>\n",
       "      <td>...</td>\n",
       "    </tr>\n",
       "    <tr>\n",
       "      <th>195</th>\n",
       "      <td>195</td>\n",
       "      <td>Who died in this story?</td>\n",
       "      <td>Brenda Tregennis</td>\n",
       "      <td>Brenda Tregennis and Mortimer Tregennis.</td>\n",
       "      <td>0.571429</td>\n",
       "    </tr>\n",
       "    <tr>\n",
       "      <th>196</th>\n",
       "      <td>196</td>\n",
       "      <td>What does Holmes observe in the fireplace?</td>\n",
       "      <td>The remains of afire in the fireplace.</td>\n",
       "      <td>Charred ashes of the overnight fire in the grate.</td>\n",
       "      <td>0.333333</td>\n",
       "    </tr>\n",
       "    <tr>\n",
       "      <th>197</th>\n",
       "      <td>197</td>\n",
       "      <td>What kind of business was Anthony Rogers worki...</td>\n",
       "      <td>Radioactive gas</td>\n",
       "      <td>American Radioactive Gas Corporation</td>\n",
       "      <td>0.666667</td>\n",
       "    </tr>\n",
       "    <tr>\n",
       "      <th>198</th>\n",
       "      <td>198</td>\n",
       "      <td>Who does not see death in the end?</td>\n",
       "      <td>Everyone except for Jof</td>\n",
       "      <td>Jof, Mia, and Mikael</td>\n",
       "      <td>0.250000</td>\n",
       "    </tr>\n",
       "    <tr>\n",
       "      <th>199</th>\n",
       "      <td>199</td>\n",
       "      <td>When does Reiko realize the curse is still unb...</td>\n",
       "      <td>She received a call from Ryuji during his last...</td>\n",
       "      <td>After receiving the phone call immediately fol...</td>\n",
       "      <td>0.111111</td>\n",
       "    </tr>\n",
       "  </tbody>\n",
       "</table>\n",
       "<p>200 rows × 5 columns</p>\n",
       "</div>"
      ],
      "text/plain": [
       "     index                                           question  \\\n",
       "0        0                What is Saltram's living situation?   \n",
       "1        1  Why does Ann not return Mary's feelings of aff...   \n",
       "2        2                         Where does the witch live?   \n",
       "3        3             What was the purpose of Crito's visit?   \n",
       "4        4  Why didn't Baron Henry just kill Otto instead ...   \n",
       "..     ...                                                ...   \n",
       "195    195                            Who died in this story?   \n",
       "196    196         What does Holmes observe in the fireplace?   \n",
       "197    197  What kind of business was Anthony Rogers worki...   \n",
       "198    198                 Who does not see death in the end?   \n",
       "199    199  When does Reiko realize the curse is still unb...   \n",
       "\n",
       "                                          ground_truth  \\\n",
       "0          He is a guest in the home of the Mulvilles.   \n",
       "1    Because she is in unrequited love with someone...   \n",
       "2                                  The Atlas Mountains   \n",
       "3    To smuggle Socrates out of prison and into a l...   \n",
       "4                                   Otto was so young.   \n",
       "..                                                 ...   \n",
       "195                                   Brenda Tregennis   \n",
       "196             The remains of afire in the fireplace.   \n",
       "197                                    Radioactive gas   \n",
       "198                            Everyone except for Jof   \n",
       "199  She received a call from Ryuji during his last...   \n",
       "\n",
       "                                            prediction  f1_score  \n",
       "0    Fundamentally unstable and reliant on external...  0.000000  \n",
       "1    Ann’s enduring attachment to a past, “ill-fate...  0.066667  \n",
       "2    Atlas’ mountain, within a cavern by a secret f...  0.000000  \n",
       "3          To persuade Socrates to escape from prison.  0.333333  \n",
       "4    A deliberate mirroring of Conrad’s brutality, ...  0.000000  \n",
       "..                                                 ...       ...  \n",
       "195           Brenda Tregennis and Mortimer Tregennis.  0.571429  \n",
       "196  Charred ashes of the overnight fire in the grate.  0.333333  \n",
       "197               American Radioactive Gas Corporation  0.666667  \n",
       "198                               Jof, Mia, and Mikael  0.250000  \n",
       "199  After receiving the phone call immediately fol...  0.111111  \n",
       "\n",
       "[200 rows x 5 columns]"
      ]
     },
     "execution_count": 9,
     "metadata": {},
     "output_type": "execute_result"
    }
   ],
   "source": [
    "table = pd.read_csv(\"dataset/table/gemma-3-27b-it/coa.csv\")\n",
    "table"
   ]
  },
  {
   "cell_type": "code",
   "execution_count": 10,
   "id": "520126af",
   "metadata": {},
   "outputs": [
    {
     "data": {
      "text/plain": [
       "0                    What is Saltram's living situation?\n",
       "1      Why does Ann not return Mary's feelings of aff...\n",
       "2                             Where does the witch live?\n",
       "3                 What was the purpose of Crito's visit?\n",
       "4      Why didn't Baron Henry just kill Otto instead ...\n",
       "                             ...                        \n",
       "195                              Who died in this story?\n",
       "196           What does Holmes observe in the fireplace?\n",
       "197    What kind of business was Anthony Rogers worki...\n",
       "198                   Who does not see death in the end?\n",
       "199    When does Reiko realize the curse is still unb...\n",
       "Name: question, Length: 200, dtype: object"
      ]
     },
     "execution_count": 10,
     "metadata": {},
     "output_type": "execute_result"
    }
   ],
   "source": [
    "questions = table[\"question\"]\n",
    "questions"
   ]
  },
  {
   "cell_type": "code",
   "execution_count": 11,
   "id": "d5c101f2",
   "metadata": {},
   "outputs": [
    {
     "data": {
      "text/plain": [
       "0            He is a guest in the home of the Mulvilles.\n",
       "1      Because she is in unrequited love with someone...\n",
       "2                                    The Atlas Mountains\n",
       "3      To smuggle Socrates out of prison and into a l...\n",
       "4                                     Otto was so young.\n",
       "                             ...                        \n",
       "195                                     Brenda Tregennis\n",
       "196               The remains of afire in the fireplace.\n",
       "197                                      Radioactive gas\n",
       "198                              Everyone except for Jof\n",
       "199    She received a call from Ryuji during his last...\n",
       "Name: ground_truth, Length: 200, dtype: object"
      ]
     },
     "execution_count": 11,
     "metadata": {},
     "output_type": "execute_result"
    }
   ],
   "source": [
    "ground_truths = table[\"ground_truth\"]\n",
    "ground_truths"
   ]
  },
  {
   "cell_type": "code",
   "execution_count": 12,
   "id": "c3a3cb65",
   "metadata": {},
   "outputs": [
    {
     "data": {
      "text/plain": [
       "0      Fundamentally unstable and reliant on external...\n",
       "1      Ann’s enduring attachment to a past, “ill-fate...\n",
       "2      Atlas’ mountain, within a cavern by a secret f...\n",
       "3            To persuade Socrates to escape from prison.\n",
       "4      A deliberate mirroring of Conrad’s brutality, ...\n",
       "                             ...                        \n",
       "195             Brenda Tregennis and Mortimer Tregennis.\n",
       "196    Charred ashes of the overnight fire in the grate.\n",
       "197                 American Radioactive Gas Corporation\n",
       "198                                 Jof, Mia, and Mikael\n",
       "199    After receiving the phone call immediately fol...\n",
       "Name: prediction, Length: 200, dtype: object"
      ]
     },
     "execution_count": 12,
     "metadata": {},
     "output_type": "execute_result"
    }
   ],
   "source": [
    "predictions = table[\"prediction\"]\n",
    "predictions"
   ]
  },
  {
   "cell_type": "code",
   "execution_count": 13,
   "id": "55353e0c",
   "metadata": {},
   "outputs": [
    {
     "data": {
      "text/plain": [
       "0      0.000000\n",
       "1      0.066667\n",
       "2      0.000000\n",
       "3      0.333333\n",
       "4      0.000000\n",
       "         ...   \n",
       "195    0.571429\n",
       "196    0.333333\n",
       "197    0.666667\n",
       "198    0.250000\n",
       "199    0.111111\n",
       "Name: f1_score, Length: 200, dtype: float64"
      ]
     },
     "execution_count": 13,
     "metadata": {},
     "output_type": "execute_result"
    }
   ],
   "source": [
    "f1_scores = table[\"f1_score\"]\n",
    "f1_scores"
   ]
  },
  {
   "cell_type": "code",
   "execution_count": null,
   "id": "91d69bca",
   "metadata": {},
   "outputs": [],
   "source": []
  }
 ],
 "metadata": {
  "kernelspec": {
   "display_name": "coa",
   "language": "python",
   "name": "python3"
  },
  "language_info": {
   "codemirror_mode": {
    "name": "ipython",
    "version": 3
   },
   "file_extension": ".py",
   "mimetype": "text/x-python",
   "name": "python",
   "nbconvert_exporter": "python",
   "pygments_lexer": "ipython3",
   "version": "3.10.16"
  }
 },
 "nbformat": 4,
 "nbformat_minor": 5
}
